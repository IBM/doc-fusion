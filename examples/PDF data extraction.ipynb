{
 "cells": [
  {
   "cell_type": "markdown",
   "metadata": {},
   "source": [
    "\n",
    "# Doc Fusion - Document Extraction Library.\n",
    "#### This script demonstrates how to extract unstructured data (PDF & DOCX) in just a few steps.\n"
   ]
  },
  {
   "cell_type": "markdown",
   "metadata": {},
   "source": []
  },
  {
   "cell_type": "code",
   "execution_count": null,
   "metadata": {},
   "outputs": [],
   "source": []
  },
  {
   "cell_type": "markdown",
   "metadata": {},
   "source": [
    "## Example PDF Document used in this notebook"
   ]
  },
  {
   "cell_type": "markdown",
   "metadata": {},
   "source": [
    "![pdf-file](../docs/src/images/illustration-1.png)"
   ]
  },
  {
   "cell_type": "markdown",
   "metadata": {},
   "source": [
    "## Install the required package"
   ]
  },
  {
   "cell_type": "code",
   "execution_count": null,
   "metadata": {},
   "outputs": [],
   "source": [
    "# Uncomment the following line if the package is not installed.\n",
    "# %pip install docfusion==1.0.0"
   ]
  },
  {
   "cell_type": "markdown",
   "metadata": {},
   "source": [
    "## Import the library"
   ]
  },
  {
   "cell_type": "code",
   "execution_count": 1,
   "metadata": {},
   "outputs": [],
   "source": [
    "from main import DocFusion"
   ]
  },
  {
   "cell_type": "markdown",
   "metadata": {},
   "source": [
    "## Extract Documents"
   ]
  },
  {
   "cell_type": "markdown",
   "metadata": {},
   "source": [
    "#### Configure the DocFusion library to extract documents"
   ]
  },
  {
   "cell_type": "markdown",
   "metadata": {},
   "source": [
    "Enter the following as configuration\n",
    "\n",
    "```\n",
    "What is the expected output? (documents/chunks):  documents\n",
    "```"
   ]
  },
  {
   "cell_type": "code",
   "execution_count": 2,
   "metadata": {
    "scrolled": true
   },
   "outputs": [
    {
     "name": "stdin",
     "output_type": "stream",
     "text": [
      "What is the expected output? (docs/chunks):  documents\n"
     ]
    },
    {
     "name": "stdout",
     "output_type": "stream",
     "text": [
      "Config data successfully written to config/data_config.json\n"
     ]
    },
    {
     "data": {
      "text/plain": [
       "'Configuration saved to config.json'"
      ]
     },
     "execution_count": 2,
     "metadata": {},
     "output_type": "execute_result"
    }
   ],
   "source": [
    "# Input expected output as \"documents\" to extract the document.\n",
    "DocFusion.configure()"
   ]
  },
  {
   "cell_type": "markdown",
   "metadata": {},
   "source": [
    "#### Extract Document \n",
    "Extract unstructured data from a PDF document"
   ]
  },
  {
   "cell_type": "code",
   "execution_count": 3,
   "metadata": {},
   "outputs": [],
   "source": [
    "# Provide the path to the document to be sourced. Use the DocFusion source method to extract document pages.\n",
    "docs = DocFusion.source(\n",
    "    input_data=\"Source this: data/insurance.pdf\"\n",
    ")"
   ]
  },
  {
   "cell_type": "code",
   "execution_count": 4,
   "metadata": {},
   "outputs": [
    {
     "name": "stdout",
     "output_type": "stream",
     "text": [
      "12 pages sourced.\n"
     ]
    }
   ],
   "source": [
    "# Output the number of pages extracted\n",
    "print(f\"{len(docs)} pages sourced.\")"
   ]
  },
  {
   "cell_type": "code",
   "execution_count": 5,
   "metadata": {
    "scrolled": true
   },
   "outputs": [
    {
     "name": "stdout",
     "output_type": "stream",
     "text": [
      "Page Metadata:\n",
      "---\n",
      "{'source': 'data/insurance.pdf', 'page': 1, 'index': 1} \n",
      "\n",
      "Page Content:\n",
      "---\n",
      "Insurance Policies\n",
      "Insurance policies provide financial security against unforeseen events. Below is a breakdown\n",
      "of different types of insurance policies, their coverage, key benefits, and premium calculation\n",
      "basis.\n",
      "1. Types of Insurance Policies\n",
      "The table below summarizes the most common types of insurance policies:\n",
      " \n",
      "\n",
      "Page Metadata:\n",
      "---\n",
      "{'source': 'data/insurance.pdf', 'page': 1, 'index': 2} \n",
      "\n",
      "Page Content:\n",
      "---\n",
      "Each insurance type provides unique benefits, and the premium amount depends on multiple\n",
      "factors, such as personal information, property value, and risk assessment.\n",
      "2. Eligibility Criteria\n",
      "Insurance policies are available to individuals, families, and businesses based on their needs.\n",
      "Common eligibility criteria include:\n",
      "●\n",
      "Stable income for paying premiums\n",
      "●\n",
      "Accurate information regarding health, age, and lifestyle\n",
      "●\n",
      "Medical screening for life insurance, depending on age and coverage amount\n",
      "Now, let's move on to the claim process, which outlines the steps you need to follow when filing\n",
      "an insurance claim.\n",
      " \n",
      "\n",
      "Page Metadata:\n",
      "---\n",
      "{'source': 'data/insurance.pdf', 'page': 2, 'index': 1} \n",
      "\n",
      "Page Content:\n",
      "---\n",
      "3. Claim Process\n",
      "Filing a claim is a crucial aspect of utilizing your insurance policy. The process is designed to be\n",
      "straightforward, ensuring minimal hassle. Follow these steps:\n",
      " \n",
      "\n",
      "Page Metadata:\n",
      "---\n",
      "{'source': 'data/insurance.pdf', 'page': 2, 'index': 2} \n",
      "\n",
      "Page Content:\n",
      "---\n",
      "It's essential to keep all necessary documents ready when making a claim to avoid delays.\n",
      "4. Service Level Agreement (SLA)\n",
      "To ensure efficient processing of claims, insurance companies operate under a Service Level\n",
      "Agreement (SLA). Below is a summary of the key service expectations:\n",
      " \n",
      "\n",
      "Page Metadata:\n",
      "---\n",
      "{'json_format': {'Insurance Type': 'Health Insurance', 'Coverage': 'Medical expenses,\\nhospitalization,\\nsurgeries', 'Key Benefits': 'Cashless treatments,\\nmedical check-ups,\\nno claim bonus', 'Premium Basis': 'Age, medical history,\\npolicy tenure'}, 'source': 'data/insurance.pdf', 'page': 1, 'table': 0, 'row': 1} \n",
      "\n",
      "Page Content:\n",
      "---\n",
      "Health Insurance | Medical expenses,\n",
      "hospitalization,\n",
      "surgeries | Cashless treatments,\n",
      "medical check-ups,\n",
      "no claim bonus | Age, medical history,\n",
      "policy tenure \n",
      "\n",
      "Page Metadata:\n",
      "---\n",
      "{'json_format': {'Insurance Type': 'Life Insurance', 'Coverage': 'Death benefit,\\nmaturity benefit', 'Key Benefits': 'Comprehensive\\nprotection, add-ons\\nfor specific risks', 'Premium Basis': 'Age, health, sum\\nassured, policy type'}, 'source': 'data/insurance.pdf', 'page': 1, 'table': 0, 'row': 2} \n",
      "\n",
      "Page Content:\n",
      "---\n",
      "Life Insurance | Death benefit,\n",
      "maturity benefit | Comprehensive\n",
      "protection, add-ons\n",
      "for specific risks | Age, health, sum\n",
      "assured, policy type \n",
      "\n",
      "Page Metadata:\n",
      "---\n",
      "{'json_format': {'Insurance Type': 'Vehicle Insurance', 'Coverage': 'Damage to vehicles,\\nthird-party liabilities', 'Key Benefits': 'Lump sum payment,\\nsavings/investment', 'Premium Basis': 'Vehicle type, usage,\\nage, accident history'}, 'source': 'data/insurance.pdf', 'page': 1, 'table': 0, 'row': 3} \n",
      "\n",
      "Page Content:\n",
      "---\n",
      "Vehicle Insurance | Damage to vehicles,\n",
      "third-party liabilities | Lump sum payment,\n",
      "savings/investment | Vehicle type, usage,\n",
      "age, accident history \n",
      "\n",
      "Page Metadata:\n",
      "---\n",
      "{'json_format': {'Insurance Type': 'Home Insurance', 'Coverage': 'Property damage,\\ntheft, natural\\ndisasters', 'Key Benefits': 'Comprehensive\\nprotection, add-ons\\nfor specific risks', 'Premium Basis': 'Property value,\\nlocation, risk factors'}, 'source': 'data/insurance.pdf', 'page': 1, 'table': 0, 'row': 4} \n",
      "\n",
      "Page Content:\n",
      "---\n",
      "Home Insurance | Property damage,\n",
      "theft, natural\n",
      "disasters | Comprehensive\n",
      "protection, add-ons\n",
      "for specific risks | Property value,\n",
      "location, risk factors \n",
      "\n",
      "Page Metadata:\n",
      "---\n",
      "{'json_format': {'Step': 'Step 1', 'Description': 'Notify the insurance provider of the claim event.'}, 'source': 'data/insurance.pdf', 'page': 2, 'table': 0, 'row': 1} \n",
      "\n",
      "Page Content:\n",
      "---\n",
      "Step 1 | Notify the insurance provider of the claim event. \n",
      "\n",
      "Page Metadata:\n",
      "---\n",
      "{'json_format': {'Step': 'Step 2', 'Description': 'Submit required documentation (e.g., medical reports,\\naccident details).'}, 'source': 'data/insurance.pdf', 'page': 2, 'table': 0, 'row': 2} \n",
      "\n",
      "Page Content:\n",
      "---\n",
      "Step 2 | Submit required documentation (e.g., medical reports,\n",
      "accident details). \n",
      "\n",
      "Page Metadata:\n",
      "---\n",
      "{'json_format': {'Step': 'Step 3', 'Description': 'Verification by the insurance company.'}, 'source': 'data/insurance.pdf', 'page': 2, 'table': 0, 'row': 3} \n",
      "\n",
      "Page Content:\n",
      "---\n",
      "Step 3 | Verification by the insurance company. \n",
      "\n",
      "Page Metadata:\n",
      "---\n",
      "{'json_format': {'Step': 'Step 4', 'Description': 'Payment of the claim amount or reimbursement.'}, 'source': 'data/insurance.pdf', 'page': 2, 'table': 0, 'row': 4} \n",
      "\n",
      "Page Content:\n",
      "---\n",
      "Step 4 | Payment of the claim amount or reimbursement. \n",
      "\n"
     ]
    }
   ],
   "source": [
    "# Iterate over the extracted pages and display metadata and content\n",
    "for page in docs:\n",
    "    print(\"Page Metadata:\\n---\")\n",
    "    print(page.metadata, \"\\n\")\n",
    "    print(\"Page Content:\\n---\")\n",
    "    print(page.page_content, \"\\n\")"
   ]
  },
  {
   "cell_type": "markdown",
   "metadata": {},
   "source": [
    "#### You can see the document output of the PDF"
   ]
  },
  {
   "cell_type": "markdown",
   "metadata": {},
   "source": [
    "<img src=\"../docs/src/images/illustration-2.png\" width=\"60%\"/>"
   ]
  },
  {
   "cell_type": "markdown",
   "metadata": {},
   "source": [
    "# Extract Chunks"
   ]
  },
  {
   "cell_type": "markdown",
   "metadata": {},
   "source": [
    "## i) Configure the DocFusion library to chunk the text and retreive the table in markdown format "
   ]
  },
  {
   "cell_type": "markdown",
   "metadata": {},
   "source": [
    "Enter the following as configuration\n",
    "\n",
    "```\n",
    "What is the expected output? (documents/chunks):  chunks\n",
    "How would you like to chunk the tables? (Row wise/ Full table):  full table\n",
    "What is the table output format you are expecting? (md/json):  md\n",
    "What is the chunk size for text chunking? (input number, ex: 512):  400\n",
    "What is the chunk text overlap? (input number, ex: 20):  20\n",
    "```"
   ]
  },
  {
   "cell_type": "code",
   "execution_count": 6,
   "metadata": {},
   "outputs": [
    {
     "name": "stdin",
     "output_type": "stream",
     "text": [
      "What is the expected output? (docs/chunks):  chunks\n",
      "How would you like to chunk the tables? (Row wise/ Full table):  full table\n",
      "What is the table output format you are expecting? (md/json):  md\n",
      "What is the chunk size for text chunking? (input number, ex: 512):  400\n",
      "What is the chunk text overlap? (input number, ex: 20):  20\n"
     ]
    },
    {
     "name": "stdout",
     "output_type": "stream",
     "text": [
      "Config data successfully written to config/data_config.json\n"
     ]
    },
    {
     "data": {
      "text/plain": [
       "'Configuration saved to config.json'"
      ]
     },
     "execution_count": 6,
     "metadata": {},
     "output_type": "execute_result"
    }
   ],
   "source": [
    "# Input expected output as \"chunks\" to extract the chunks. \n",
    "DocFusion.configure()"
   ]
  },
  {
   "cell_type": "code",
   "execution_count": 7,
   "metadata": {},
   "outputs": [],
   "source": [
    "# Provide the path to the document to be sourced. Use the DocFusion source method to extract document pages.\n",
    "docs = DocFusion.source(\n",
    "    input_data=\"Source this: data/insurance.pdf\"\n",
    ")"
   ]
  },
  {
   "cell_type": "code",
   "execution_count": 8,
   "metadata": {},
   "outputs": [
    {
     "name": "stdout",
     "output_type": "stream",
     "text": [
      "7 pages sourced.\n"
     ]
    }
   ],
   "source": [
    "# Output the number of pages extracted\n",
    "print(f\"{len(docs)} pages sourced.\")"
   ]
  },
  {
   "cell_type": "code",
   "execution_count": 9,
   "metadata": {
    "scrolled": true
   },
   "outputs": [
    {
     "name": "stdout",
     "output_type": "stream",
     "text": [
      "Page Metadata:\n",
      "---\n",
      "{'source': 'data/insurance.pdf', 'page': 1, 'index': 1} \n",
      "\n",
      "Page Content:\n",
      "---\n",
      "Insurance Policies\n",
      "Insurance policies provide financial security against unforeseen events. Below is a breakdown\n",
      "of different types of insurance policies, their coverage, key benefits, and premium calculation\n",
      "basis.\n",
      "1. Types of Insurance Policies\n",
      "The table below summarizes the most common types of insurance policies: \n",
      "\n",
      "Page Metadata:\n",
      "---\n",
      "{'source': 'data/insurance.pdf', 'page': 1, 'index': 2} \n",
      "\n",
      "Page Content:\n",
      "---\n",
      "Each insurance type provides unique benefits, and the premium amount depends on multiple\n",
      "factors, such as personal information, property value, and risk assessment.\n",
      "2. Eligibility Criteria\n",
      "Insurance policies are available to individuals, families, and businesses based on their needs.\n",
      "Common eligibility criteria include:\n",
      "●\n",
      "Stable income for paying premiums\n",
      "● \n",
      "\n",
      "Page Metadata:\n",
      "---\n",
      "{'source': 'data/insurance.pdf', 'page': 1, 'index': 2} \n",
      "\n",
      "Page Content:\n",
      "---\n",
      "●\n",
      "Accurate information regarding health, age, and lifestyle\n",
      "●\n",
      "Medical screening for life insurance, depending on age and coverage amount\n",
      "Now, let's move on to the claim process, which outlines the steps you need to follow when filing\n",
      "an insurance claim. \n",
      "\n",
      "Page Metadata:\n",
      "---\n",
      "{'source': 'data/insurance.pdf', 'page': 2, 'index': 1} \n",
      "\n",
      "Page Content:\n",
      "---\n",
      "3. Claim Process\n",
      "Filing a claim is a crucial aspect of utilizing your insurance policy. The process is designed to be\n",
      "straightforward, ensuring minimal hassle. Follow these steps: \n",
      "\n",
      "Page Metadata:\n",
      "---\n",
      "{'source': 'data/insurance.pdf', 'page': 2, 'index': 2} \n",
      "\n",
      "Page Content:\n",
      "---\n",
      "It's essential to keep all necessary documents ready when making a claim to avoid delays.\n",
      "4. Service Level Agreement (SLA)\n",
      "To ensure efficient processing of claims, insurance companies operate under a Service Level\n",
      "Agreement (SLA). Below is a summary of the key service expectations: \n",
      "\n",
      "Page Metadata:\n",
      "---\n",
      "{'source': 'data/insurance.pdf', 'page': 1, 'table': 0, 'rows_start': 1, 'rows_end': 4} \n",
      "\n",
      "Page Content:\n",
      "---\n",
      "Insurance Type | Coverage | Key Benefits | Premium Basis\n",
      "--- | --- | --- | ---\n",
      "Health Insurance | Medical expenses,\n",
      "hospitalization,\n",
      "surgeries | Cashless treatments,\n",
      "medical check-ups,\n",
      "no claim bonus | Age, medical history,\n",
      "policy tenure\n",
      "Life Insurance | Death benefit,\n",
      "maturity benefit | Comprehensive\n",
      "protection, add-ons\n",
      "for specific risks | Age, health, sum\n",
      "assured, policy type\n",
      "Vehicle Insurance | Damage to vehicles,\n",
      "third-party liabilities | Lump sum payment,\n",
      "savings/investment | Vehicle type, usage,\n",
      "age, accident history\n",
      "Home Insurance | Property damage,\n",
      "theft, natural\n",
      "disasters | Comprehensive\n",
      "protection, add-ons\n",
      "for specific risks | Property value,\n",
      "location, risk factors\n",
      " \n",
      "\n",
      "Page Metadata:\n",
      "---\n",
      "{'source': 'data/insurance.pdf', 'page': 2, 'table': 0, 'rows_start': 1, 'rows_end': 4} \n",
      "\n",
      "Page Content:\n",
      "---\n",
      "Step | Description\n",
      "--- | ---\n",
      "Step 1 | Notify the insurance provider of the claim event.\n",
      "Step 2 | Submit required documentation (e.g., medical reports,\n",
      "accident details).\n",
      "Step 3 | Verification by the insurance company.\n",
      "Step 4 | Payment of the claim amount or reimbursement.\n",
      " \n",
      "\n"
     ]
    }
   ],
   "source": [
    "# Iterate over the extracted pages and display metadata and content\n",
    "for page in docs:\n",
    "    print(\"Page Metadata:\\n---\")\n",
    "    print(page.metadata, \"\\n\")\n",
    "    print(\"Page Content:\\n---\")\n",
    "    print(page.page_content, \"\\n\")"
   ]
  },
  {
   "cell_type": "markdown",
   "metadata": {},
   "source": [
    "#### You can see the full table chunk output of the PDF in md format"
   ]
  },
  {
   "cell_type": "markdown",
   "metadata": {},
   "source": [
    "<img src=\"../docs/src/images/illustration-3.png\" width=\"40%\"/>"
   ]
  },
  {
   "cell_type": "markdown",
   "metadata": {},
   "source": [
    "## ii) Configure the DocFusion library to chunk the table row wise in json format "
   ]
  },
  {
   "cell_type": "markdown",
   "metadata": {},
   "source": [
    "Enter the following as configuration\n",
    "\n",
    "```\n",
    "What is the expected output? (documents/chunks):  chunks\n",
    "How would you like to chunk the tables? (Row wise/ Full table):  row wise\n",
    "How many rows in a table to consider for row wise table chunking?:  2\n",
    "What is the table output format you are expecting? (md/json):  json\n",
    "What is the chunk size for text chunking?:  512\n",
    "What is the chunk text overlap?:  15\n",
    "```"
   ]
  },
  {
   "cell_type": "code",
   "execution_count": 10,
   "metadata": {},
   "outputs": [
    {
     "name": "stdin",
     "output_type": "stream",
     "text": [
      "What is the expected output? (docs/chunks):  chunks\n",
      "How would you like to chunk the tables? (Row wise/ Full table):  row wise\n",
      "How many rows in a table to consider for row wise table chunking?:  2\n",
      "What is the table output format you are expecting? (md/json):  json\n",
      "What is the chunk size for text chunking?:  512\n",
      "What is the chunk text overlap?:  15\n"
     ]
    },
    {
     "name": "stdout",
     "output_type": "stream",
     "text": [
      "Config data successfully written to config/data_config.json\n"
     ]
    },
    {
     "data": {
      "text/plain": [
       "'Configuration saved to config.json'"
      ]
     },
     "execution_count": 10,
     "metadata": {},
     "output_type": "execute_result"
    }
   ],
   "source": [
    "# Input expected output as \"chunks\" to extract the chunks. \n",
    "DocFusion.configure()"
   ]
  },
  {
   "cell_type": "code",
   "execution_count": 11,
   "metadata": {},
   "outputs": [],
   "source": [
    "# Provide the path to the document to be sourced. Use the DocFusion source method to extract document pages.\n",
    "docs = DocFusion.source(\n",
    "    input_data=\"Source this: data/insurance.pdf\"\n",
    ")"
   ]
  },
  {
   "cell_type": "code",
   "execution_count": 12,
   "metadata": {},
   "outputs": [
    {
     "name": "stdout",
     "output_type": "stream",
     "text": [
      "9 pages sourced.\n"
     ]
    }
   ],
   "source": [
    "# Output the number of pages extracted\n",
    "print(f\"{len(docs)} pages sourced.\")"
   ]
  },
  {
   "cell_type": "code",
   "execution_count": 13,
   "metadata": {},
   "outputs": [
    {
     "name": "stdout",
     "output_type": "stream",
     "text": [
      "Page Metadata:\n",
      "---\n",
      "{'source': 'data/insurance.pdf', 'page': 1, 'index': 1} \n",
      "\n",
      "Page Content:\n",
      "---\n",
      "Insurance Policies\n",
      "Insurance policies provide financial security against unforeseen events. Below is a breakdown\n",
      "of different types of insurance policies, their coverage, key benefits, and premium calculation\n",
      "basis.\n",
      "1. Types of Insurance Policies\n",
      "The table below summarizes the most common types of insurance policies: \n",
      "\n",
      "Page Metadata:\n",
      "---\n",
      "{'source': 'data/insurance.pdf', 'page': 1, 'index': 2} \n",
      "\n",
      "Page Content:\n",
      "---\n",
      "Each insurance type provides unique benefits, and the premium amount depends on multiple\n",
      "factors, such as personal information, property value, and risk assessment.\n",
      "2. Eligibility Criteria\n",
      "Insurance policies are available to individuals, families, and businesses based on their needs.\n",
      "Common eligibility criteria include:\n",
      "●\n",
      "Stable income for paying premiums\n",
      "●\n",
      "Accurate information regarding health, age, and lifestyle\n",
      "●\n",
      "Medical screening for life insurance, depending on age and coverage amount \n",
      "\n",
      "Page Metadata:\n",
      "---\n",
      "{'source': 'data/insurance.pdf', 'page': 1, 'index': 2} \n",
      "\n",
      "Page Content:\n",
      "---\n",
      "Now, let's move on to the claim process, which outlines the steps you need to follow when filing\n",
      "an insurance claim. \n",
      "\n",
      "Page Metadata:\n",
      "---\n",
      "{'source': 'data/insurance.pdf', 'page': 2, 'index': 1} \n",
      "\n",
      "Page Content:\n",
      "---\n",
      "3. Claim Process\n",
      "Filing a claim is a crucial aspect of utilizing your insurance policy. The process is designed to be\n",
      "straightforward, ensuring minimal hassle. Follow these steps: \n",
      "\n",
      "Page Metadata:\n",
      "---\n",
      "{'source': 'data/insurance.pdf', 'page': 2, 'index': 2} \n",
      "\n",
      "Page Content:\n",
      "---\n",
      "It's essential to keep all necessary documents ready when making a claim to avoid delays.\n",
      "4. Service Level Agreement (SLA)\n",
      "To ensure efficient processing of claims, insurance companies operate under a Service Level\n",
      "Agreement (SLA). Below is a summary of the key service expectations: \n",
      "\n",
      "Page Metadata:\n",
      "---\n",
      "{'source': 'data/insurance.pdf', 'page': 1, 'table': 0, 'rows_start': 1, 'rows_end': 2} \n",
      "\n",
      "Page Content:\n",
      "---\n",
      "{'Insurance Type': 'Health Insurance', 'Coverage': 'Medical expenses,\\nhospitalization,\\nsurgeries', 'Key Benefits': 'Cashless treatments,\\nmedical check-ups,\\nno claim bonus', 'Premium Basis': 'Age, medical history,\\npolicy tenure'}{'Insurance Type': 'Life Insurance', 'Coverage': 'Death benefit,\\nmaturity benefit', 'Key Benefits': 'Comprehensive\\nprotection, add-ons\\nfor specific risks', 'Premium Basis': 'Age, health, sum\\nassured, policy type'} \n",
      "\n",
      "Page Metadata:\n",
      "---\n",
      "{'source': 'data/insurance.pdf', 'page': 1, 'table': 0, 'rows_start': 3, 'rows_end': 4} \n",
      "\n",
      "Page Content:\n",
      "---\n",
      "{'Insurance Type': 'Vehicle Insurance', 'Coverage': 'Damage to vehicles,\\nthird-party liabilities', 'Key Benefits': 'Lump sum payment,\\nsavings/investment', 'Premium Basis': 'Vehicle type, usage,\\nage, accident history'}{'Insurance Type': 'Home Insurance', 'Coverage': 'Property damage,\\ntheft, natural\\ndisasters', 'Key Benefits': 'Comprehensive\\nprotection, add-ons\\nfor specific risks', 'Premium Basis': 'Property value,\\nlocation, risk factors'} \n",
      "\n",
      "Page Metadata:\n",
      "---\n",
      "{'source': 'data/insurance.pdf', 'page': 2, 'table': 0, 'rows_start': 1, 'rows_end': 2} \n",
      "\n",
      "Page Content:\n",
      "---\n",
      "{'Step': 'Step 1', 'Description': 'Notify the insurance provider of the claim event.'}{'Step': 'Step 2', 'Description': 'Submit required documentation (e.g., medical reports,\\naccident details).'} \n",
      "\n",
      "Page Metadata:\n",
      "---\n",
      "{'source': 'data/insurance.pdf', 'page': 2, 'table': 0, 'rows_start': 3, 'rows_end': 4} \n",
      "\n",
      "Page Content:\n",
      "---\n",
      "{'Step': 'Step 3', 'Description': 'Verification by the insurance company.'}{'Step': 'Step 4', 'Description': 'Payment of the claim amount or reimbursement.'} \n",
      "\n"
     ]
    }
   ],
   "source": [
    "# Iterate over the extracted pages and display metadata and content\n",
    "for page in docs:\n",
    "    print(\"Page Metadata:\\n---\")\n",
    "    print(page.metadata, \"\\n\")\n",
    "    print(\"Page Content:\\n---\")\n",
    "    print(page.page_content, \"\\n\")"
   ]
  },
  {
   "cell_type": "markdown",
   "metadata": {},
   "source": [
    "#### You can see the row wise table chunks output of the PDF in json format"
   ]
  },
  {
   "cell_type": "markdown",
   "metadata": {},
   "source": [
    "<img src=\"../docs/src/images/illustration-4.png\" width=\"60%\"/>"
   ]
  },
  {
   "cell_type": "code",
   "execution_count": null,
   "metadata": {},
   "outputs": [],
   "source": []
  }
 ],
 "metadata": {
  "kernelspec": {
   "display_name": "Python 3 (ipykernel)",
   "language": "python",
   "name": "python3"
  },
  "language_info": {
   "codemirror_mode": {
    "name": "ipython",
    "version": 3
   },
   "file_extension": ".py",
   "mimetype": "text/x-python",
   "name": "python",
   "nbconvert_exporter": "python",
   "pygments_lexer": "ipython3",
   "version": "3.11.9"
  }
 },
 "nbformat": 4,
 "nbformat_minor": 4
}
